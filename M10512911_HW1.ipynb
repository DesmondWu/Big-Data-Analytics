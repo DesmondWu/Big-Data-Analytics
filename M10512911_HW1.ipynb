{
 "cells": [
  {
   "cell_type": "code",
   "execution_count": 30,
   "metadata": {
    "collapsed": true
   },
   "outputs": [],
   "source": [
    "import numpy as np\n",
    "import pandas as pd\n",
    "from sklearn.datasets import make_classification\n",
    "from sklearn.ensemble import AdaBoostClassifier\n",
    "from sklearn.tree import DecisionTreeClassifier"
   ]
  },
  {
   "cell_type": "code",
   "execution_count": 31,
   "metadata": {
    "collapsed": true
   },
   "outputs": [],
   "source": [
    "# Build a classification task using 1806 informative features\n",
    "data = pd.read_csv(\"/LargeTrain.csv\")\n",
    "featureName = data.columns\n",
    "y = data.pop('Class')\n",
    "X = data"
   ]
  },
  {
   "cell_type": "code",
   "execution_count": 32,
   "metadata": {
    "collapsed": false
   },
   "outputs": [
    {
     "name": "stdout",
     "output_type": "stream",
     "text": [
<<<<<<< HEAD
      "importance feature:\n",
      "1. feature section_names_.tls (0.016845)\n",
      "2. feature GlobalHandle (0.009998)\n",
      "3. feature ent_q_diff_block_0_18 (0.009996)\n",
      "nonimportance feature:\n",
      "1. feature Class (0.000000)\n",
      "2. feature TB_58 (0.000000)\n",
      "3. feature TB_57 (0.000000)\n"
=======
      "Feature ranking:\n",
      "1. feature TB_94 (195.987320)\n",
      "2. feature section_names_.tls (0.110902)\n",
      "3. feature string_len_counts_6000_15000 (0.017313)\n",
      "Nonimportance feature\n",
      "1. feature ent_q_diff_block_0_17 (-195.977320)\n",
      "2. feature Img51 (-0.086534)\n",
      "3. feature TB_74 (-0.007486)\n"
>>>>>>> d45954ebed6e80d7284414fa82d81a7e8756e9e5
     ]
    }
   ],
   "source": [
    "forest=AdaBoostClassifier(DecisionTreeClassifier(max_depth=2),n_estimators=100,learning_rate=2)\n",
    "\n",
    "forest.fit(X, y)\n",
    "importances = forest.feature_importances_\n",
    "std = np.std([tree.feature_importances_ for tree in forest.estimators_],\n",
    "             axis=0)\n",
    "indices = np.argsort(importances)[::-1]\n",
    "\n",
    "num = len(indices) - 1\n",
    "print(\"importance feature:\")\n",
    "for i in range(3):\n",
    "    print (\"%d. feature %s (%f)\" % (i + 1, featureName[indices[i]-1], importances[indices[i]]))\n",
    "\n",
    "print(\"nonimportance feature:\")\n",
    "for i in range(3):\n",
    "    print (\"%d. feature %s (%f)\" % (i + 1, featureName[indices[num-i]-1], importances[indices[num-i]]))\n"
   ]
  }
 ],
 "metadata": {
  "kernelspec": {
   "display_name": "Python 3",
   "language": "python",
   "name": "python3"
  },
  "language_info": {
   "codemirror_mode": {
    "name": "ipython",
    "version": 3
   },
   "file_extension": ".py",
   "mimetype": "text/x-python",
   "name": "python",
   "nbconvert_exporter": "python",
   "pygments_lexer": "ipython3",
   "version": "3.4.3"
  }
 },
 "nbformat": 4,
 "nbformat_minor": 0
}
